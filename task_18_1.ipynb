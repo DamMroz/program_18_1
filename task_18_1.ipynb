{
 "cells": [
  {
   "cell_type": "markdown",
   "id": "8db1667d",
   "metadata": {},
   "source": [
    "# Importing modules and input data"
   ]
  },
  {
   "cell_type": "code",
   "execution_count": 157,
   "id": "23ce2479",
   "metadata": {},
   "outputs": [],
   "source": [
    "import numpy as np\n",
    "import pandas as pd\n",
    "import matplotlib.pyplot as plt\n",
    "from sklearn.datasets import load_iris\n",
    "from sklearn.model_selection import train_test_split\n",
    "from sklearn.preprocessing import OneHotEncoder, StandardScaler\n",
    "from keras.models import Sequential\n",
    "from keras.layers import Dense\n",
    "\n",
    "iris_data = load_iris()\n",
    "X = iris_data['data']\n",
    "y = iris_data['target']\n",
    "target_names = iris_data['target_names']\n",
    "feature_names = iris_data['feature_names']"
   ]
  },
  {
   "cell_type": "markdown",
   "id": "f7b9e6fb",
   "metadata": {},
   "source": [
    "# Encoding, scaling and splitting data"
   ]
  },
  {
   "cell_type": "code",
   "execution_count": 158,
   "id": "c12c848d",
   "metadata": {},
   "outputs": [],
   "source": [
    "encoder = OneHotEncoder()\n",
    "y_encoded = encoder.fit_transform(y[:, np.newaxis]).toarray()\n",
    "\n",
    "\n",
    "scaler = StandardScaler()\n",
    "X_scaled = scaler.fit_transform(X)\n",
    "\n",
    "\n",
    "X_train, X_test, y_train, y_test = train_test_split(X_scaled, y_encoded, test_size=0.4, random_state=42)"
   ]
  },
  {
   "cell_type": "markdown",
   "id": "1b072707",
   "metadata": {},
   "source": [
    "# Setting up the model"
   ]
  },
  {
   "cell_type": "code",
   "execution_count": 159,
   "id": "7576776e",
   "metadata": {},
   "outputs": [],
   "source": [
    "model = Sequential()\n",
    "\n",
    "model.add(layers.Dense(100, activation='relu'))\n",
    "model.add(layers.Dense(50, activation='relu'))\n",
    "model.add(layers.Dense(3, activation='softmax'))\n",
    "\n",
    "model.compile(loss='categorical_crossentropy', \n",
    "              optimizer='adam', \n",
    "              metrics=['accuracy'])"
   ]
  },
  {
   "cell_type": "markdown",
   "id": "c2dcf149",
   "metadata": {},
   "source": [
    "# Fitting and evaluating the model"
   ]
  },
  {
   "cell_type": "code",
   "execution_count": 160,
   "id": "1b0845e3",
   "metadata": {},
   "outputs": [
    {
     "name": "stdout",
     "output_type": "stream",
     "text": [
      "Overall test loss: 0.043287668377161026\n",
      "Score test accuracy: 0.9833333492279053\n"
     ]
    }
   ],
   "source": [
    "model.fit(X_train, y_train,\n",
    "          batch_size=4,\n",
    "          epochs=80,\n",
    "          verbose=0,\n",
    "          validation_data=(X_test, y_test)\n",
    "          )\n",
    "eval_score = model.evaluate(X_test, y_test, verbose=0)\n",
    "print('Overall test loss:', eval_score[0])\n",
    "print('Score test accuracy:', eval_score[1])"
   ]
  }
 ],
 "metadata": {
  "kernelspec": {
   "display_name": "Python 3 (ipykernel)",
   "language": "python",
   "name": "python3"
  },
  "language_info": {
   "codemirror_mode": {
    "name": "ipython",
    "version": 3
   },
   "file_extension": ".py",
   "mimetype": "text/x-python",
   "name": "python",
   "nbconvert_exporter": "python",
   "pygments_lexer": "ipython3",
   "version": "3.11.7"
  }
 },
 "nbformat": 4,
 "nbformat_minor": 5
}
